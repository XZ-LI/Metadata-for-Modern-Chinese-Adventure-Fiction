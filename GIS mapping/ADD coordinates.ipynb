{
 "cells": [
  {
   "cell_type": "code",
   "execution_count": 7,
   "id": "a4e11976",
   "metadata": {},
   "outputs": [
    {
     "name": "stdout",
     "output_type": "stream",
     "text": [
      "经纬度已成功提取并存入新的列。\n"
     ]
    }
   ],
   "source": [
    "import pandas as pd\n",
    "from geopy.geocoders import Nominatim\n",
    "from geopy.exc import GeocoderTimedOut\n",
    "\n",
    "# 读取Excel文件\n",
    "df = pd.read_excel('all_freq_English_Cities.xlsx')\n",
    "\n",
    "# 初始化地理编码器\n",
    "geolocator = Nominatim(user_agent=\"geo_locator\")\n",
    "\n",
    "# 定义获取经纬度的函数\n",
    "def get_lat_long(city_name):\n",
    "    try:\n",
    "        location = geolocator.geocode(city_name)\n",
    "        if location:\n",
    "            return location.latitude, location.longitude\n",
    "        else:\n",
    "            return None, None\n",
    "    except GeocoderTimedOut:\n",
    "        return None, None\n",
    "\n",
    "# 使用函数获取城市的经纬度\n",
    "df[['latitude', 'longitude']] = df['Cities'].apply(lambda x: pd.Series(get_lat_long(x)))\n",
    "\n",
    "# 保存到新的Excel文件\n",
    "df.to_excel('all_freq_English_with_coordinates.xlsx', index=False)\n",
    "\n",
    "print(\"经纬度已成功提取并存入新的列。\")\n"
   ]
  }
 ],
 "metadata": {
  "kernelspec": {
   "display_name": "Python 3 (ipykernel)",
   "language": "python",
   "name": "python3"
  },
  "language_info": {
   "codemirror_mode": {
    "name": "ipython",
    "version": 3
   },
   "file_extension": ".py",
   "mimetype": "text/x-python",
   "name": "python",
   "nbconvert_exporter": "python",
   "pygments_lexer": "ipython3",
   "version": "3.10.13"
  }
 },
 "nbformat": 4,
 "nbformat_minor": 5
}
