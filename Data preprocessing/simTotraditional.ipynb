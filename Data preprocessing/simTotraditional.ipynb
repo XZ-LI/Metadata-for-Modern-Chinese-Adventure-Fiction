{
 "cells": [
  {
   "cell_type": "code",
   "execution_count": null,
   "id": "90459297",
   "metadata": {},
   "outputs": [],
   "source": [
    "import zhconv\n",
    "\n",
    "\n",
    "def hans_2_hant(hant_str: str):\n",
    "    '''\n",
    "    Function: 将 hant_str 由简体转化为繁体\n",
    "    '''\n",
    "    return zhconv.convert(hant_str, 'zh-hant') "
   ]
  },
  {
   "cell_type": "code",
   "execution_count": 4,
   "id": "b6381b94",
   "metadata": {},
   "outputs": [],
   "source": [
    "import os\n",
    "import re\n",
    "\n",
    "root = \"1\"\n",
    "for file_name in os.listdir(root):\n",
    "    with open(os.path.join(root, file_name), 'r', encoding='utf-8') as rf:\n",
    "        text = rf.read()\n",
    "        text_new = hans_2_hant(text)\n",
    "    with open(os.path.join(\"2\", file_name), \"w\", encoding='utf-8') as f:\n",
    "        f.write(text_new)"
   ]
  },
  {
   "cell_type": "code",
   "execution_count": null,
   "id": "f68696a2",
   "metadata": {},
   "outputs": [],
   "source": []
  }
 ],
 "metadata": {
  "kernelspec": {
   "display_name": "Python [conda env:base] *",
   "language": "python",
   "name": "conda-base-py"
  },
  "language_info": {
   "codemirror_mode": {
    "name": "ipython",
    "version": 3
   },
   "file_extension": ".py",
   "mimetype": "text/x-python",
   "name": "python",
   "nbconvert_exporter": "python",
   "pygments_lexer": "ipython3",
   "version": "3.10.13"
  }
 },
 "nbformat": 4,
 "nbformat_minor": 5
}
