{
 "cells": [
  {
   "cell_type": "code",
   "execution_count": 1,
   "id": "05302b65",
   "metadata": {},
   "outputs": [],
   "source": [
    "import os\n",
    "import re\n",
    "\n",
    "root = \"2\"\n",
    "for file_name in os.listdir(root):\n",
    "    with open(os.path.join(root, file_name), 'r', encoding='utf-8') as rf:\n",
    "        text = rf.readlines()\n",
    "    text_new = []\n",
    "    for line in text:\n",
    "        if \"识别结束\" in line or \"开始识别\" in line:\n",
    "            pass\n",
    "        else:\n",
    "            text_new.append(line)\n",
    "    text_new = \"\".join(text_new)\n",
    "    text_new = re.sub('[^\\u4e00-\\u9fa5]+', '', text_new)\n",
    "    with open(os.path.join(\"3\", file_name), \"w\", encoding='utf-8') as f:\n",
    "        f.write(text_new)"
   ]
  },
  {
   "cell_type": "code",
   "execution_count": null,
   "id": "306e594d",
   "metadata": {},
   "outputs": [],
   "source": []
  }
 ],
 "metadata": {
  "kernelspec": {
   "display_name": "Python [conda env:base] *",
   "language": "python",
   "name": "conda-base-py"
  },
  "language_info": {
   "codemirror_mode": {
    "name": "ipython",
    "version": 3
   },
   "file_extension": ".py",
   "mimetype": "text/x-python",
   "name": "python",
   "nbconvert_exporter": "python",
   "pygments_lexer": "ipython3",
   "version": "3.10.13"
  }
 },
 "nbformat": 4,
 "nbformat_minor": 5
}
